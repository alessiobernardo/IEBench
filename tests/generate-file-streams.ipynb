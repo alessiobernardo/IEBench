{
 "cells": [
  {
   "cell_type": "code",
   "execution_count": 1,
   "metadata": {},
   "outputs": [
    {
     "name": "stdout",
     "output_type": "stream",
     "text": [
      "0\n"
     ]
    }
   ],
   "source": [
    "n_exp = 10\n",
    "\n",
    "\n",
    "speeds = [\"incremental\",\"sudden\", \"periodic\"]\n",
    "\n",
    "\n",
    "drifts = [\"appearing-minority\",\"disappearing-minority\",\"jitter\",\"clusters-movement\",\"appearing-clusters\",\n",
    "              \"splitting-clusters\", \"borderline\", \"shapeshift\", \"minority-share\"]\n",
    "\n",
    "\n",
    "seeds = [0,1,13,17,23,30,39,912,1237,7591]\n",
    "cnt = 0\n",
    "options = [1,2,3,4]\n",
    "test = open(\"generateStreams.txt\",\"a\")\n",
    "\n",
    "for i in range(0,n_exp):\n",
    "     for o in options:\n",
    "        for d in drifts : #appearing-minority\n",
    "            for s in speeds:\n",
    "                test.write(f\"java -Xmx14g -Xss50M -cp moa.jar -javaagent:sizeofag-1.0.4.jar moa.DoTask '\"\n",
    "                      f'WriteStreamToARFFFile -s '\n",
    "                      f'(moa.dabrze.streams.generators.ImbalancedDriftGenerator -d {d}/{s},start=0,end=100000,value-start=0.0,value-end=1.0 -n 2 -m 0.{o} -s 0.5 -b 0.5 -r {seeds[i]}) -f '\n",
    "                      f\"/Users/08volt/Desktop/StremingML/moa-algorithms-comparison/tests/drifts_arff/{d}-{s}-{o}-{i}.arff -m 100000' \\n\")\n",
    "\n",
    "\n",
    "test.close()\n",
    "print(cnt)"
   ]
  },
  {
   "cell_type": "code",
   "execution_count": null,
   "metadata": {},
   "outputs": [],
   "source": []
  },
  {
   "cell_type": "code",
   "execution_count": null,
   "metadata": {},
   "outputs": [],
   "source": []
  }
 ],
 "metadata": {
  "kernelspec": {
   "display_name": "Python 3",
   "language": "python",
   "name": "python3"
  },
  "language_info": {
   "codemirror_mode": {
    "name": "ipython",
    "version": 3
   },
   "file_extension": ".py",
   "mimetype": "text/x-python",
   "name": "python",
   "nbconvert_exporter": "python",
   "pygments_lexer": "ipython3",
   "version": "3.7.6"
  }
 },
 "nbformat": 4,
 "nbformat_minor": 1
}
