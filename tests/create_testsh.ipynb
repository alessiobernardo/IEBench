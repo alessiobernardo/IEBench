{
 "cells": [
  {
   "cell_type": "markdown",
   "metadata": {},
   "source": [
    "# Create a bash file with sequence of random experiments to compare algorithms"
   ]
  },
  {
   "cell_type": "markdown",
   "metadata": {},
   "source": [
    "What needs to be in the same foder as this notebook:\n",
    "- moa.jar\n",
    "- javaagent: sizeofag-1.0.4.jar\n",
    "- Dockerfile\n",
    "- dockercompose.yml\n",
    "- results directories:\n",
    "    - first level results/: drifts folders ( P(y)/../appearing-clusters/../Real)\n",
    "    - second level results/drift/: imbalances folders (1/2/3/4/Sine_G_1_9/ (ds name for real streams) )\n",
    "    - thrid level results/drift/: algorithms folders (CSMOTE/ESOS_ELM/OOB/..)"
   ]
  },
  {
   "cell_type": "code",
   "execution_count": null,
   "metadata": {},
   "outputs": [],
   "source": [
    "datasets = {\n",
    "    \"Real\" : [\"Elec\",\"PAKDD\", \"KDDCup\"],\n",
    "    \"SEASINE\" : [\"sea_\", \"sine_\",\"seaG_\",\"sineG_\"],\n",
    "    \"GEN\" : [\"incremental\",\"sudden\", \"periodic\"]\n",
    "}\n",
    "\n",
    "directories = {\n",
    "    \"art1\" : [\"P(y)\",\"P(x_y)\",\"P(y_x)\"],\n",
    "    \"res_art1\" : [\"P\\\\(y\\\\)\",\"P\\\\(x_y\\\\)\",\"P\\\\(y_x\\\\)\"],\n",
    "    \"name_art1\" : [\"Py\",\"Px_y\",\"Py_x\"],\n",
    "    \"art2\" : [\"appearing-minority\",\"disappearing-minority\",\"jitter\",\"clusters-movement\",\"appearing-clusters\",\n",
    "              \"splitting-clusters\", \"borderline\", \"shapeshift\", \"minority-share\"]\n",
    "}\n",
    "\n",
    "algorithms = [\"CSMOTE\",\"ESOS_ELM\",\"improved_OOB\",\"improved_UOB\",\"OOB\",\"UOB\",\"WEOB1\",\"WEOB2\",\"ESOS_ELM\", \"RebalanceStream\"]\n",
    "\n",
    "options = [1,2,3,4]"
   ]
  },
  {
   "cell_type": "code",
   "execution_count": null,
   "metadata": {},
   "outputs": [],
   "source": [
    "# select the number of experiments:\n",
    "n_exp = 10"
   ]
  },
  {
   "cell_type": "code",
   "execution_count": null,
   "metadata": {},
   "outputs": [],
   "source": [
    "# name of the bash file\n",
    "test = open(\"Tests.txt\",\"w\")\n",
    "cnt = 0"
   ]
  },
  {
   "cell_type": "markdown",
   "metadata": {},
   "source": [
    "Code to add test on SEA and SINE which are saved on file and have a different directory structure"
   ]
  },
  {
   "cell_type": "code",
   "execution_count": null,
   "metadata": {},
   "outputs": [],
   "source": [
    "for alg in algorithms:\n",
    "    for di,d in enumerate(directories[\"art1\"]):\n",
    "        for o in options:\n",
    "            for data in datasets[\"art1\"]:\n",
    "                for i in range(1,n_exp+1):\n",
    "                    #different evaluator if drift is gradual or sudden\n",
    "                    if \"G\" in data:\n",
    "                        drift = \"45000 -j 10000\"\n",
    "                    else:\n",
    "                        drift = \"50000\"\n",
    "                    #adjust learner string\n",
    "                    l = f'(meta.{alg})\n",
    "                    if \"ESOS\" in alg:\n",
    "                        l = f'(meta.{alg} -c (OS_ELM -p) -e (WELM -p))'\n",
    "                    elif \"Impr\" in alg:\n",
    "                        alg1 = ''.join(alg)\n",
    "                        alg2 = alg.replace('_', '').replace(\"i\",\"I\")\n",
    "                        alg = alg1\n",
    "                        l = f'(meta.{alg2})'\n",
    "                    elif \"Reb\" in alg:\n",
    "                        l = f'(meta.{alg} -l trees.HoeffdingAdaptiveTree)'\n",
    "\n",
    "                    cnt += 1\n",
    "                    test.write(f'docker run --rm --name=\"{directories[\"name_art1\"][di]}_{alg}_{data}{str(o)}_{str(10-o)}_{str(i)}\" '\n",
    "                               f'-v $(pwd)/results:/src/results test_moa bash -c '\n",
    "                          f'\"java -Xmx14g -Xss50M -cp moa.jar -javaagent:sizeofag-1.0.4.jar moa.DoTask \\\\\"'\n",
    "                          f'EvaluatePrequential -l {l} -s '\n",
    "                          f'(ArffFileStream -f datasets/{d}/{data}{str(o)},{str(10-o)}.arff) -e '\n",
    "                          f'(WindowFixedClassificationPerformanceEvaluator -w {drift} -r -f -g) -i -1 -f 5000\\\\\" 1> '\n",
    "                          f'results/{directories[\"res_art1\"][di]}/{data}{str(o)}_{str(10-o)}/{alg}/{str(i)}_err.csv 2> results/{directories[\"res_art1\"][di]}/{data}{str(o)}_{str(10-o)}/{alg}/{str(i)}.csv\"\\n')"
   ]
  },
  {
   "cell_type": "markdown",
   "metadata": {},
   "source": [
    "Code to add cluster drifts"
   ]
  },
  {
   "cell_type": "code",
   "execution_count": 1,
   "metadata": {
    "collapsed": true
   },
   "outputs": [
    {
     "name": "stdout",
     "output_type": "stream",
     "text": [
      "1110\n"
     ]
    }
   ],
   "source": [
    "for alg in algorithms:\n",
    "    for d in directories[\"art2\"] : \n",
    "        for o in options:\n",
    "            for data in datasets[\"art2\"]:\n",
    "                for i in range(1,n_exp+1):\n",
    "                    if \"sudden\" in data:\n",
    "                        drift = \"50000\"\n",
    "                    else:\n",
    "                        drift = \"45000 -j 10000\"\n",
    "                    \n",
    "                    #adjust learner string\n",
    "                    if \"ESOS\" in alg:\n",
    "                        l = f'(meta.{alg} -c (OS_ELM -p) -e (WELM -p))'\n",
    "                    elif \"Impr\" in alg:\n",
    "                        alg1 = ''.join(alg)\n",
    "                        alg2 = alg.replace('_', '').replace(\"i\",\"I\")\n",
    "                        alg = alg1\n",
    "                        l = f'(meta.{alg2})'\n",
    "                    elif \"Reb\" in alg:\n",
    "                        l = f'(meta.{alg} -l trees.HoeffdingAdaptiveTree)'\n",
    "\n",
    "\n",
    "                    cnt += 1\n",
    "                    test.write(f'docker run --rm --name=\"{d}_{data}_{str(o)}_{alg}_{str(i)}\"'\n",
    "                               f' -v $(pwd)/results:/src/results test_moa bash -c '\n",
    "                          f'\"java -Xmx14g -Xss50M -cp moa.jar -javaagent:sizeofag-1.0.4.jar moa.DoTask \\\\\"'\n",
    "                          f'EvaluatePrequential -l {l} -s '\n",
    "                          f'(moa.dabrze.streams.generators.ImbalancedDriftGenerator -d {d}/{data},start=0,end=100000,value-start=0.0,value-end=1.0 -n 2 -m 0.1 -s 0.5 -b  0.5 -r {seeds[i-1]}) -e '\n",
    "                          f'(WindowFixedClassificationPerformanceEvaluator -w {drift} -r -f -g) -i -1 -f 5000\\\\\" 1> '\n",
    "                          f'results/Drifts/{d}/{str(o)}/{alg}/{data}_{str(i)}_err.csv 2> results/Drifts/{d}/{str(o)}/{alg}/{data}_{str(i)}.csv\"\\n')\n"
   ]
  },
  {
   "cell_type": "markdown",
   "metadata": {},
   "source": [
    "add test on Real Streams"
   ]
  },
  {
   "cell_type": "code",
   "execution_count": null,
   "metadata": {},
   "outputs": [],
   "source": [
    "for alg in algorithms[\"new\"]:\n",
    "    for data in datasets[\"real\"]:\n",
    "        for i in range(1,n_exp+1):\n",
    "            #adjust learner string\n",
    "            if \"ESOS\" in alg:\n",
    "                l = f'(meta.{alg} -c (OS_ELM -p) -e (WELM -p))'\n",
    "            elif \"Impr\" in alg:\n",
    "                alg1 = ''.join(alg)\n",
    "                alg2 = alg.replace('_', '').replace(\"i\",\"I\")\n",
    "                alg = alg1\n",
    "                l = f'(meta.{alg2})'\n",
    "            elif \"Reb\" in alg:\n",
    "                l = f'(meta.{alg} -l trees.HoeffdingAdaptiveTree)'\n",
    "            cnt += 1\n",
    "            test.write(f'docker run --rm --name=\"{data}_{alg}_{str(i)}\"'\n",
    "                       f' -v $(pwd)/results:/src/results test_moa bash -c '\n",
    "                  f'\"java -Xmx14g -Xss50M -cp moa.jar -javaagent:sizeofag-1.0.4.jar moa.DoTask \\\\\"'\n",
    "                  f'EvaluatePrequential -l {l} -s '\n",
    "                  f'(ArffFileStream -f (datasets/Real/{data}.arff)) -e '\n",
    "                  f'(FadingFactorClassificationPerformanceEvaluator -a 0.995 -r -f -g) -i -1 -f 5000\\\\\" 1> '\n",
    "                  f'results/Real/{data}/{alg}/{data}_{alg}_{str(i)}_err.csv 2> results/Real/{data}/{alg}/{data}_{alg}_{str(i)}.csv\"\\n')\n",
    "\n",
    "test.close()\n",
    "print(cnt)"
   ]
  }
 ],
 "metadata": {
  "kernelspec": {
   "display_name": "Python 3",
   "language": "python",
   "name": "python3"
  },
  "language_info": {
   "codemirror_mode": {
    "name": "ipython",
    "version": 3
   },
   "file_extension": ".py",
   "mimetype": "text/x-python",
   "name": "python",
   "nbconvert_exporter": "python",
   "pygments_lexer": "ipython3",
   "version": "3.7.6"
  }
 },
 "nbformat": 4,
 "nbformat_minor": 1
}
