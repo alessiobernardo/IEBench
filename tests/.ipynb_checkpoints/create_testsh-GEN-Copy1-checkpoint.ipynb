{
 "cells": [
  {
   "cell_type": "code",
   "execution_count": 4,
   "metadata": {},
   "outputs": [
    {
     "name": "stdout",
     "output_type": "stream",
     "text": [
      "6480\n"
     ]
    }
   ],
   "source": [
    "n_exp = 10\n",
    "\n",
    "algorithms = [\"improved_OOB\",\"improved_UOB\",\"OOB\",\"UOB\",\"WEOB1\",\"WEOB2\",\"RebalanceStream\",\"CSMOTE\"] \n",
    "\n",
    "\n",
    "speeds = [\"incremental\",\"sudden\", \"periodic\"]\n",
    "\n",
    "\n",
    "directories = [\"appearing-minority\",\"disappearing-minority\",\"jitter\",\"clusters-movement\",\"appearing-clusters\",\n",
    "              \"splitting-clusters\", \"borderline\", \"shapeshift\", \"minority-share\"]\n",
    "\n",
    "\n",
    "cnt = 0\n",
    "options = [2,3,4]\n",
    "test = open(\"TestGENbig.txt\",\"a\")\n",
    "\n",
    "\n",
    "\n",
    "for i in range(1,n_exp+1):\n",
    "    test.write(f\"date\\n\")\n",
    "    for o in options:\n",
    "        for alg in algorithms:\n",
    "            for d in directories: \n",
    "                test.write(f\"echo '{i} {o} {alg} {d}'\\n\")\n",
    "                for s in speeds:\n",
    "                    if \"sudden\" in s:\n",
    "                        drift = \"50000\"\n",
    "                    else:\n",
    "                        drift = \"45000 -j 10000\"\n",
    "\n",
    "                    l = f'(meta.{alg})'\n",
    "                    if \"ESOS\" in alg:\n",
    "                        l = f'(meta.{alg} -c (OS_ELM -b 100 -i 100 -p) -e (WELM -p -i 100))'\n",
    "\n",
    "                    elif \"CSMOTE\" in alg:\n",
    "                        l = f'(meta.{alg} -l trees.HoeffdingAdaptiveTree -w 100000)'\n",
    "                    elif \"mpr\" in alg:\n",
    "                        alg1 = ''.join(alg)\n",
    "                        alg2 = alg.replace('_', '').replace(\"i\",\"I\")\n",
    "                        alg = alg1\n",
    "                        l = f'(meta.{alg2})'\n",
    "                    elif \"Reb\" in alg:\n",
    "                        l = f'(meta.{alg} -l trees.HoeffdingAdaptiveTree)'\n",
    "\n",
    "                    cnt += 1\n",
    "                    test.write(f\"java -Xmx14g -Xss50M -cp moa.jar -javaagent:sizeofag-1.0.4.jar moa.DoTask '\"\n",
    "                          f'EvaluatePrequential -l {l} -s '\n",
    "                          f'(ArffFileStream -f ./drifts_arff/{d}-{s}-{o}-{i-1}.arff) -e '\n",
    "                          f\"(WindowFixedClassificationPerformanceEvaluator -w {drift} -r -f -g) -i -1 -f 5000' \"\n",
    "                          f\"1> results/Drifts/{d}/{str(o)}/{alg}/{s}_{str(i)}_err.csv 2> results/Drifts/{d}/{str(o)}/{alg}/{s}_{str(i)}.csv\\n\") \n",
    "\n",
    "\n",
    "test.close()\n",
    "print(cnt)"
   ]
  },
  {
   "cell_type": "code",
   "execution_count": null,
   "metadata": {},
   "outputs": [],
   "source": []
  },
  {
   "cell_type": "code",
   "execution_count": null,
   "metadata": {},
   "outputs": [],
   "source": []
  }
 ],
 "metadata": {
  "kernelspec": {
   "display_name": "Python 3",
   "language": "python",
   "name": "python3"
  },
  "language_info": {
   "codemirror_mode": {
    "name": "ipython",
    "version": 3
   },
   "file_extension": ".py",
   "mimetype": "text/x-python",
   "name": "python",
   "nbconvert_exporter": "python",
   "pygments_lexer": "ipython3",
   "version": "3.7.6"
  }
 },
 "nbformat": 4,
 "nbformat_minor": 1
}
