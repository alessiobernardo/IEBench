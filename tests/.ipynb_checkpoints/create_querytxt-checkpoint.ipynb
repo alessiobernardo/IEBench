{
 "cells": [
  {
   "cell_type": "markdown",
   "metadata": {},
   "source": [
    "# Create a list of query to get memory data from influx"
   ]
  },
  {
   "cell_type": "code",
   "execution_count": null,
   "metadata": {},
   "outputs": [],
   "source": [
    "n_exp = 10\n",
    "\n",
    "algorithms = {\n",
    "    \"old\" : [\"CSMOTE\"], #dont need data\n",
    "    \"new\" : [\"WEOB1\", \"improved_UOB\",\"ESOS_ELM\",\"improved_OOB\",\"OOB\",\"UOB\", \"RebalanceStream\",\"WEOB2\"] \n",
    "}\n",
    "\n",
    "datasets = {\n",
    "    \"real\" : [\"Elec\",\"PAKDD\", \"KDDCup\"],\n",
    "    \"art1\" : [\"sea_\", \"sine_\",\"seaG_\",\"sineG_\"],\n",
    "    \"art2\" : [\"incremental\",\"sudden\", \"periodic\"]\n",
    "}\n",
    "\n",
    "directories = {\n",
    "    \"art1\" : [\"P(y)\",\"P(x_y)\",\"P(y_x)\"],\n",
    "    \"res_art1\" : [\"P\\\\(y\\\\)\",\"P\\\\(x_y\\\\)\",\"P\\\\(y_x\\\\)\"],\n",
    "    \"name_art1\" : [\"Py\",\"Px_y\",\"Py_x\"],\n",
    "\n",
    "    \"art2\" : [\"appearing-minority\",\"disappearing-minority\",\"jitter\",\"clusters-movement\",\"appearing-clusters\",\n",
    "              \"splitting-clusters\", \"borderline\", \"shapeshift\", \"minority-share\"]\n",
    "}"
   ]
  },
  {
   "cell_type": "code",
   "execution_count": 4,
   "metadata": {
    "collapsed": true
   },
   "outputs": [],
   "source": [
    "\n",
    "\n",
    "\n",
    "cnt = 0\n",
    "options = [1,2,3,4]\n",
    "test = open(\"QUERIES.txt\",\"a\")\n",
    "\n",
    "for alg in algorithms[\"new\"]:\n",
    "    for di,d in enumerate(directories[\"art1\"]):\n",
    "        for o in options:\n",
    "            for data in datasets[\"art1\"]:\n",
    "                name = f'{directories[\"name_art1\"][di]}_{alg}_{data}{str(o)}_{str(10-o)}'\n",
    "                query = 'from(bucket: \"edv\")\\n  |> range(start: v.timeRangeStart, stop: v.timeRangeStop)\\n  |> filter(fn: (r) => r._measurement == \"docker_container_mem\")\\n  |> filter(fn: (r) => r._field == \"usage\")\\n  |> filter(fn: (r) => '\n",
    "                for i in range(1,n_exp+1):\n",
    "                    exp = f'r.container_name == \"{directories[\"name_art1\"][di]}_{alg}_{data}{str(o)}_{str(10-o)}_{str(i)}\"'\n",
    "                    if i > 1 and i <= n_exp:\n",
    "                        exp = \" or \" + exp\n",
    "                    query = query + exp\n",
    "                test.write( query + f')\\n  |> aggregateWindow(every: v.windowPeriod, fn: last)\\n  |> last()\\n  |> group(columns: [\"_usage\"])\\n  |> mean()\\n  |> yield(name: \"{name}\")\\n\\n')\n",
    "\n",
    "for alg in algorithms[\"new\"]:\n",
    "    for di,d in enumerate(directories[\"art2\"]):\n",
    "        for o in options:\n",
    "            for data in datasets[\"art2\"]:\n",
    "                name = f'{d}_{data}_{str(o)}_{alg}'\n",
    "                query = 'from(bucket: \"edv\")\\n|> range(start: v.timeRangeStart, stop: v.timeRangeStop)\\n|> filter(fn: (r) => r._measurement == \"docker_container_mem\")\\n|> filter(fn: (r) => r._field == \"usage\")\\n|> filter(fn: (r) => '\n",
    "                for i in range(1,n_exp+1):\n",
    "                    exp = f'r.container_name == \"{d}_{data}_{str(o)}_{alg}_{str(i)}\"'\n",
    "                    if i > 1 and i <= n_exp:\n",
    "                        exp = \" or \" + exp\n",
    "                    query = query + exp\n",
    "                test.write( query + f')\\n  |> aggregateWindow(every: v.windowPeriod, fn: last)\\n  |> last()\\n  |> group(columns: [\"_usage\"])\\n  |> mean()\\n  |> yield(name: \"{name}\")\\n\\n')\n",
    "\n",
    "for alg in algorithms[\"new\"]:\n",
    "        for data in datasets[\"real\"]:\n",
    "            name = f'{data}_{alg}'\n",
    "            query = 'from(bucket: \"edv\")\\n  |> range(start: v.timeRangeStart, stop: v.timeRangeStop)\\n  |> filter(fn: (r) => r._measurement == \"docker_container_mem\")\\n  |> filter(fn: (r) => r._field == \"usage\")\\n  |> filter(fn: (r) => '\n",
    "            for i in range(1,n_exp+1):\n",
    "                exp = f'r.container_name == \"{data}_{alg}_{i}\"'\n",
    "                if i > 1 and i <= n_exp:\n",
    "                    exp = \" or \" + exp\n",
    "                query = query + exp\n",
    "            test.write( query + f')\\n  |> aggregateWindow(every: v.windowPeriod, fn: last)\\n  |> last()\\n  |> group(columns: [\"_usage\"])\\n  |> mean()\\n  |> yield(name: \"{name}\")\\n\\n')\n",
    "\n",
    "\n",
    "\n",
    "test.close()\n",
    "print(cnt)"
   ]
  }
 ],
 "metadata": {
  "kernelspec": {
   "display_name": "Python 3",
   "language": "python",
   "name": "python3"
  },
  "language_info": {
   "codemirror_mode": {
    "name": "ipython",
    "version": 3
   },
   "file_extension": ".py",
   "mimetype": "text/x-python",
   "name": "python",
   "nbconvert_exporter": "python",
   "pygments_lexer": "ipython3",
   "version": "3.7.6"
  }
 },
 "nbformat": 4,
 "nbformat_minor": 1
}
