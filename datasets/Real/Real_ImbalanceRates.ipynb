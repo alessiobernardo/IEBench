{
 "cells": [
  {
   "cell_type": "code",
   "execution_count": 1,
   "metadata": {},
   "outputs": [],
   "source": [
    "import pandas as pd\n",
    "import numpy as np"
   ]
  },
  {
   "cell_type": "code",
   "execution_count": 2,
   "metadata": {},
   "outputs": [
    {
     "name": "stdout",
     "output_type": "stream",
     "text": [
      "Elec\n",
      "PAKDD\n",
      "KDDCup\n"
     ]
    }
   ],
   "source": [
    "names = [\"Elec\", \"PAKDD\", \"KDDCup\"]\n",
    "w_len= 5000\n",
    "rates = {}\n",
    "\n",
    "dfs = {}\n",
    "\n",
    "\n",
    "for name in names:\n",
    "    print(name)\n",
    "    dfs[name] = pd.read_csv(f\"{name}.csv\", header = None)"
   ]
  },
  {
   "cell_type": "code",
   "execution_count": 20,
   "metadata": {},
   "outputs": [],
   "source": [
    "df = dfs[\"KDDCup\"]"
   ]
  },
  {
   "cell_type": "code",
   "execution_count": 21,
   "metadata": {},
   "outputs": [
    {
     "data": {
      "text/plain": [
       "494021"
      ]
     },
     "execution_count": 21,
     "metadata": {},
     "output_type": "execute_result"
    }
   ],
   "source": [
    "len(df)"
   ]
  },
  {
   "cell_type": "code",
   "execution_count": 22,
   "metadata": {},
   "outputs": [
    {
     "data": {
      "text/plain": [
       "0.8030893423558918"
      ]
     },
     "execution_count": 22,
     "metadata": {},
     "output_type": "execute_result"
    }
   ],
   "source": [
    "df[df.columns[-1]].value_counts()[0]/len(df)"
   ]
  },
  {
   "cell_type": "code",
   "execution_count": 23,
   "metadata": {},
   "outputs": [
    {
     "data": {
      "text/plain": [
       "0.19691065764410826"
      ]
     },
     "execution_count": 23,
     "metadata": {},
     "output_type": "execute_result"
    }
   ],
   "source": [
    "df[df.columns[-1]].value_counts()[1]/len(df)"
   ]
  },
  {
   "cell_type": "markdown",
   "metadata": {},
   "source": [
    "### SLIDING WINDOW"
   ]
  },
  {
   "cell_type": "code",
   "execution_count": 51,
   "metadata": {
    "scrolled": true
   },
   "outputs": [
    {
     "name": "stdout",
     "output_type": "stream",
     "text": [
      "Elec\n",
      "PAKDD\n",
      "KDDCup\n",
      "0\n",
      "5000\n",
      "10000\n",
      "15000\n",
      "20000\n",
      "25000\n",
      "30000\n",
      "35000\n",
      "40000\n",
      "45000\n",
      "0\n",
      "5000\n",
      "10000\n",
      "15000\n",
      "20000\n",
      "25000\n",
      "30000\n",
      "35000\n",
      "40000\n",
      "45000\n",
      "0\n",
      "5000\n",
      "10000\n",
      "15000\n",
      "20000\n",
      "25000\n",
      "30000\n",
      "35000\n",
      "40000\n",
      "45000\n",
      "50000\n",
      "55000\n",
      "60000\n",
      "65000\n",
      "70000\n",
      "75000\n",
      "80000\n",
      "85000\n",
      "90000\n",
      "95000\n",
      "100000\n",
      "105000\n",
      "110000\n",
      "115000\n",
      "120000\n",
      "125000\n",
      "130000\n",
      "135000\n",
      "140000\n",
      "145000\n",
      "150000\n",
      "155000\n",
      "160000\n",
      "165000\n",
      "170000\n",
      "175000\n",
      "180000\n",
      "185000\n",
      "190000\n",
      "195000\n",
      "200000\n",
      "205000\n",
      "210000\n",
      "215000\n",
      "220000\n",
      "225000\n",
      "230000\n",
      "235000\n",
      "240000\n",
      "245000\n",
      "250000\n",
      "255000\n",
      "260000\n",
      "265000\n",
      "270000\n",
      "275000\n",
      "280000\n",
      "285000\n",
      "290000\n",
      "295000\n",
      "300000\n",
      "305000\n",
      "310000\n",
      "315000\n",
      "320000\n",
      "325000\n",
      "330000\n",
      "335000\n",
      "340000\n",
      "345000\n",
      "350000\n",
      "355000\n",
      "360000\n",
      "365000\n",
      "370000\n",
      "375000\n",
      "380000\n",
      "385000\n",
      "390000\n",
      "395000\n",
      "400000\n",
      "405000\n",
      "410000\n",
      "415000\n",
      "420000\n",
      "425000\n",
      "430000\n",
      "435000\n",
      "440000\n",
      "445000\n",
      "450000\n",
      "455000\n",
      "460000\n",
      "465000\n",
      "470000\n",
      "475000\n",
      "480000\n",
      "485000\n",
      "490000\n"
     ]
    }
   ],
   "source": [
    "names = [\"Elec\", \"PAKDD\", \"KDDCup\"]\n",
    "w_len= 5000\n",
    "rates = {}\n",
    "\n",
    "dfs = {}\n",
    "\n",
    "\n",
    "for name in names:\n",
    "    print(name)\n",
    "    dfs[name] = pd.read_csv(f\"{name}.csv\", header = None)\n",
    "\n",
    "for name,df in dfs.items():\n",
    "    \n",
    "    \n",
    "    window = np.zeros(shape=(w_len,))\n",
    "    i = 0\n",
    "    IR = []\n",
    "    for index, row in df.iterrows():\n",
    "        window[i] = row[df.columns[-1]]\n",
    "\n",
    "        ones = len(window[window==1])\n",
    "        zeros = len(window[window==0])\n",
    "\n",
    "        if index < w_len:\n",
    "            IR.append(ones/(index + 1))\n",
    "        else: \n",
    "            IR.append(ones/w_len)\n",
    "        if index % w_len == 0:\n",
    "            print(index)\n",
    "        i = (i + 1) % w_len\n",
    "    rates[name] = IR\n",
    "\n",
    "    \n",
    "    "
   ]
  },
  {
   "cell_type": "markdown",
   "metadata": {},
   "source": [
    "### STEPS"
   ]
  },
  {
   "cell_type": "code",
   "execution_count": 83,
   "metadata": {},
   "outputs": [
    {
     "name": "stdout",
     "output_type": "stream",
     "text": [
      "Elec\n",
      "PAKDD\n",
      "KDDCup\n",
      "0    5000\n",
      "Name: 41, dtype: int64\n",
      "0    5000\n",
      "Name: 41, dtype: int64\n",
      "0    5000\n",
      "Name: 41, dtype: int64\n",
      "0    5000\n",
      "Name: 41, dtype: int64\n",
      "0    5000\n",
      "Name: 41, dtype: int64\n",
      "0    5000\n",
      "Name: 41, dtype: int64\n",
      "0    5000\n",
      "Name: 41, dtype: int64\n",
      "0    5000\n",
      "Name: 41, dtype: int64\n",
      "0    5000\n",
      "Name: 41, dtype: int64\n",
      "0    5000\n",
      "Name: 41, dtype: int64\n",
      "0    5000\n",
      "Name: 41, dtype: int64\n",
      "0    5000\n",
      "Name: 41, dtype: int64\n",
      "0    5000\n",
      "Name: 41, dtype: int64\n",
      "0    5000\n",
      "Name: 41, dtype: int64\n",
      "0    5000\n",
      "Name: 41, dtype: int64\n",
      "0    5000\n",
      "Name: 41, dtype: int64\n",
      "0    5000\n",
      "Name: 41, dtype: int64\n",
      "0    5000\n",
      "Name: 41, dtype: int64\n",
      "0    5000\n",
      "Name: 41, dtype: int64\n",
      "0    5000\n",
      "Name: 41, dtype: int64\n",
      "0    5000\n",
      "Name: 41, dtype: int64\n",
      "0    5000\n",
      "Name: 41, dtype: int64\n",
      "0    5000\n",
      "Name: 41, dtype: int64\n",
      "0    5000\n",
      "Name: 41, dtype: int64\n",
      "0    5000\n",
      "Name: 41, dtype: int64\n",
      "0    5000\n",
      "Name: 41, dtype: int64\n",
      "0    5000\n",
      "Name: 41, dtype: int64\n",
      "0    5000\n",
      "Name: 41, dtype: int64\n",
      "0    5000\n",
      "Name: 41, dtype: int64\n",
      "0    5000\n",
      "Name: 41, dtype: int64\n",
      "0    5000\n",
      "Name: 41, dtype: int64\n",
      "0    5000\n",
      "Name: 41, dtype: int64\n",
      "0    5000\n",
      "Name: 41, dtype: int64\n",
      "0    5000\n",
      "Name: 41, dtype: int64\n",
      "0    5000\n",
      "Name: 41, dtype: int64\n",
      "0    5000\n",
      "Name: 41, dtype: int64\n",
      "0    5000\n",
      "Name: 41, dtype: int64\n",
      "0    5000\n",
      "Name: 41, dtype: int64\n",
      "0    5000\n",
      "Name: 41, dtype: int64\n",
      "0    5000\n",
      "Name: 41, dtype: int64\n",
      "0    5000\n",
      "Name: 41, dtype: int64\n",
      "0    5000\n",
      "Name: 41, dtype: int64\n",
      "0    5000\n",
      "Name: 41, dtype: int64\n",
      "0    5000\n",
      "Name: 41, dtype: int64\n",
      "0    5000\n",
      "Name: 41, dtype: int64\n",
      "0    5000\n",
      "Name: 41, dtype: int64\n",
      "0    5000\n",
      "Name: 41, dtype: int64\n",
      "0    5000\n",
      "Name: 41, dtype: int64\n",
      "0    5000\n",
      "Name: 41, dtype: int64\n",
      "0    5000\n",
      "Name: 41, dtype: int64\n",
      "0    5000\n",
      "Name: 41, dtype: int64\n",
      "0    5000\n",
      "Name: 41, dtype: int64\n",
      "0    5000\n",
      "Name: 41, dtype: int64\n",
      "0    5000\n",
      "Name: 41, dtype: int64\n",
      "0    5000\n",
      "Name: 41, dtype: int64\n",
      "0    5000\n",
      "Name: 41, dtype: int64\n",
      "0    5000\n",
      "Name: 41, dtype: int64\n",
      "0    5000\n",
      "Name: 41, dtype: int64\n",
      "0    5000\n",
      "Name: 41, dtype: int64\n",
      "0    5000\n",
      "Name: 41, dtype: int64\n",
      "0    5000\n",
      "Name: 41, dtype: int64\n",
      "0    5000\n",
      "Name: 41, dtype: int64\n",
      "0    5000\n",
      "Name: 41, dtype: int64\n",
      "0    5000\n",
      "Name: 41, dtype: int64\n",
      "0    5000\n",
      "Name: 41, dtype: int64\n",
      "0    5000\n",
      "Name: 41, dtype: int64\n",
      "0    5000\n",
      "Name: 41, dtype: int64\n"
     ]
    }
   ],
   "source": [
    "step = 5000\n",
    "names = [\"Elec\", \"PAKDD\", \"KDDCup\"]\n",
    "\n",
    "rates = {}\n",
    "\n",
    "for name,df in dfs.items():\n",
    "    rates[name] = {}\n",
    "    IR = []\n",
    "    instances = []\n",
    "    i = 0\n",
    "    while i * step < len(df):\n",
    "        if 1 not in df.iloc[i*step:(i+1)*step][df.columns[-1]].value_counts():\n",
    "            ones = 0\n",
    "            print(df.iloc[i*step:(i+1)*step][df.columns[-1]].value_counts())\n",
    "        else:\n",
    "            ones = df.iloc[i*step:(i+1)*step][df.columns[-1]].value_counts()[1]\n",
    "        tot = len(df.iloc[i*step:(i+1)*step])\n",
    "        \n",
    "        IR.append(ones/tot)\n",
    "        instances.append(df.iloc[i*step:(i+1)*step].index[-1] +1)\n",
    "        i += 1\n",
    "    rates[name][\"rates\"] = IR\n",
    "    rates[name][\"instances\"] = instances\n"
   ]
  },
  {
   "cell_type": "code",
   "execution_count": 84,
   "metadata": {},
   "outputs": [],
   "source": [
    "import csv\n",
    "with open('Real_Imbalance_rates_step5000.csv', 'w') as csv_file:  \n",
    "    writer = csv.writer(csv_file)\n",
    "    writer.writerow([\"dataset\",\"instances\",\"ones%\"])\n",
    "    for ds, ir_dict in rates.items():\n",
    "        for i,r in enumerate(ir_dict[\"rates\"]):\n",
    "            writer.writerow([ds,ir_dict[\"instances\"][i],r])"
   ]
  },
  {
   "cell_type": "code",
   "execution_count": 59,
   "metadata": {},
   "outputs": [
    {
     "data": {
      "text/plain": [
       "0.4628"
      ]
     },
     "execution_count": 59,
     "metadata": {},
     "output_type": "execute_result"
    }
   ],
   "source": [
    "rates[\"Elec\"][45300]"
   ]
  },
  {
   "cell_type": "code",
   "execution_count": 74,
   "metadata": {},
   "outputs": [
    {
     "data": {
      "text/plain": [
       "45311"
      ]
     },
     "execution_count": 74,
     "metadata": {},
     "output_type": "execute_result"
    }
   ],
   "source": [
    "dfs[\"Elec\"].iloc[45000:50000][8].index[-1]"
   ]
  },
  {
   "cell_type": "code",
   "execution_count": null,
   "metadata": {},
   "outputs": [],
   "source": []
  }
 ],
 "metadata": {
  "kernelspec": {
   "display_name": "Python 3",
   "language": "python",
   "name": "python3"
  },
  "language_info": {
   "codemirror_mode": {
    "name": "ipython",
    "version": 3
   },
   "file_extension": ".py",
   "mimetype": "text/x-python",
   "name": "python",
   "nbconvert_exporter": "python",
   "pygments_lexer": "ipython3",
   "version": "3.7.6"
  }
 },
 "nbformat": 4,
 "nbformat_minor": 4
}
